{
 "cells": [
  {
   "cell_type": "code",
   "execution_count": 5,
   "id": "bad0040b-ac20-4ea0-9e5e-5cd9bf235e87",
   "metadata": {},
   "outputs": [
    {
     "name": "stdout",
     "output_type": "stream",
     "text": [
      "Requirement already satisfied: getorg in c:\\users\\apalm\\appdata\\local\\programs\\python\\python312\\lib\\site-packages (0.3.1)\n",
      "Requirement already satisfied: geopy in c:\\users\\apalm\\appdata\\local\\programs\\python\\python312\\lib\\site-packages (from getorg) (2.4.1)\n",
      "Requirement already satisfied: pygithub in c:\\users\\apalm\\appdata\\local\\programs\\python\\python312\\lib\\site-packages (from getorg) (2.4.0)\n",
      "Requirement already satisfied: retrying in c:\\users\\apalm\\appdata\\local\\programs\\python\\python312\\lib\\site-packages (from getorg) (1.3.4)\n",
      "Requirement already satisfied: geographiclib<3,>=1.52 in c:\\users\\apalm\\appdata\\local\\programs\\python\\python312\\lib\\site-packages (from geopy->getorg) (2.0)\n",
      "Requirement already satisfied: pynacl>=1.4.0 in c:\\users\\apalm\\appdata\\local\\programs\\python\\python312\\lib\\site-packages (from pygithub->getorg) (1.5.0)\n",
      "Requirement already satisfied: requests>=2.14.0 in c:\\users\\apalm\\appdata\\local\\programs\\python\\python312\\lib\\site-packages (from pygithub->getorg) (2.32.3)\n",
      "Requirement already satisfied: pyjwt>=2.4.0 in c:\\users\\apalm\\appdata\\local\\programs\\python\\python312\\lib\\site-packages (from pyjwt[crypto]>=2.4.0->pygithub->getorg) (2.9.0)\n",
      "Requirement already satisfied: typing-extensions>=4.0.0 in c:\\users\\apalm\\appdata\\local\\programs\\python\\python312\\lib\\site-packages (from pygithub->getorg) (4.12.2)\n",
      "Requirement already satisfied: urllib3>=1.26.0 in c:\\users\\apalm\\appdata\\local\\programs\\python\\python312\\lib\\site-packages (from pygithub->getorg) (2.2.2)\n",
      "Requirement already satisfied: Deprecated in c:\\users\\apalm\\appdata\\local\\programs\\python\\python312\\lib\\site-packages (from pygithub->getorg) (1.2.14)\n",
      "Requirement already satisfied: six>=1.7.0 in c:\\users\\apalm\\appdata\\local\\programs\\python\\python312\\lib\\site-packages (from retrying->getorg) (1.16.0)\n",
      "Requirement already satisfied: cryptography>=3.4.0 in c:\\users\\apalm\\appdata\\local\\programs\\python\\python312\\lib\\site-packages (from pyjwt[crypto]>=2.4.0->pygithub->getorg) (43.0.1)\n",
      "Requirement already satisfied: cffi>=1.4.1 in c:\\users\\apalm\\appdata\\local\\programs\\python\\python312\\lib\\site-packages (from pynacl>=1.4.0->pygithub->getorg) (1.17.0)\n",
      "Requirement already satisfied: charset-normalizer<4,>=2 in c:\\users\\apalm\\appdata\\local\\programs\\python\\python312\\lib\\site-packages (from requests>=2.14.0->pygithub->getorg) (3.3.2)\n",
      "Requirement already satisfied: idna<4,>=2.5 in c:\\users\\apalm\\appdata\\local\\programs\\python\\python312\\lib\\site-packages (from requests>=2.14.0->pygithub->getorg) (3.8)\n",
      "Requirement already satisfied: certifi>=2017.4.17 in c:\\users\\apalm\\appdata\\local\\programs\\python\\python312\\lib\\site-packages (from requests>=2.14.0->pygithub->getorg) (2024.8.30)\n",
      "Requirement already satisfied: wrapt<2,>=1.10 in c:\\users\\apalm\\appdata\\local\\programs\\python\\python312\\lib\\site-packages (from Deprecated->pygithub->getorg) (1.16.0)\n",
      "Requirement already satisfied: pycparser in c:\\users\\apalm\\appdata\\local\\programs\\python\\python312\\lib\\site-packages (from cffi>=1.4.1->pynacl>=1.4.0->pygithub->getorg) (2.22)\n",
      "Collecting ipyleaflet\n",
      "  Downloading ipyleaflet-0.19.2-py3-none-any.whl.metadata (5.3 kB)\n",
      "Collecting branca>=0.5.0 (from ipyleaflet)\n",
      "  Downloading branca-0.7.2-py3-none-any.whl.metadata (1.5 kB)\n",
      "Requirement already satisfied: ipywidgets<9,>=7.6.0 in c:\\users\\apalm\\appdata\\local\\programs\\python\\python312\\lib\\site-packages (from ipyleaflet) (8.1.5)\n",
      "Collecting jupyter-leaflet<0.20,>=0.19 (from ipyleaflet)\n",
      "  Downloading jupyter_leaflet-0.19.2-py3-none-any.whl.metadata (2.4 kB)\n",
      "Collecting traittypes<3,>=0.2.1 (from ipyleaflet)\n",
      "  Downloading traittypes-0.2.1-py2.py3-none-any.whl.metadata (1.0 kB)\n",
      "Collecting xyzservices>=2021.8.1 (from ipyleaflet)\n",
      "  Downloading xyzservices-2024.9.0-py3-none-any.whl.metadata (4.1 kB)\n",
      "Requirement already satisfied: jinja2>=3 in c:\\users\\apalm\\appdata\\local\\programs\\python\\python312\\lib\\site-packages (from branca>=0.5.0->ipyleaflet) (3.1.4)\n",
      "Requirement already satisfied: comm>=0.1.3 in c:\\users\\apalm\\appdata\\local\\programs\\python\\python312\\lib\\site-packages (from ipywidgets<9,>=7.6.0->ipyleaflet) (0.2.2)\n",
      "Requirement already satisfied: ipython>=6.1.0 in c:\\users\\apalm\\appdata\\local\\programs\\python\\python312\\lib\\site-packages (from ipywidgets<9,>=7.6.0->ipyleaflet) (8.27.0)\n",
      "Requirement already satisfied: traitlets>=4.3.1 in c:\\users\\apalm\\appdata\\local\\programs\\python\\python312\\lib\\site-packages (from ipywidgets<9,>=7.6.0->ipyleaflet) (5.14.3)\n",
      "Requirement already satisfied: widgetsnbextension~=4.0.12 in c:\\users\\apalm\\appdata\\local\\programs\\python\\python312\\lib\\site-packages (from ipywidgets<9,>=7.6.0->ipyleaflet) (4.0.13)\n",
      "Requirement already satisfied: jupyterlab-widgets~=3.0.12 in c:\\users\\apalm\\appdata\\local\\programs\\python\\python312\\lib\\site-packages (from ipywidgets<9,>=7.6.0->ipyleaflet) (3.0.13)\n",
      "Requirement already satisfied: decorator in c:\\users\\apalm\\appdata\\local\\programs\\python\\python312\\lib\\site-packages (from ipython>=6.1.0->ipywidgets<9,>=7.6.0->ipyleaflet) (5.1.1)\n",
      "Requirement already satisfied: jedi>=0.16 in c:\\users\\apalm\\appdata\\local\\programs\\python\\python312\\lib\\site-packages (from ipython>=6.1.0->ipywidgets<9,>=7.6.0->ipyleaflet) (0.19.1)\n",
      "Requirement already satisfied: matplotlib-inline in c:\\users\\apalm\\appdata\\local\\programs\\python\\python312\\lib\\site-packages (from ipython>=6.1.0->ipywidgets<9,>=7.6.0->ipyleaflet) (0.1.7)\n",
      "Requirement already satisfied: prompt-toolkit<3.1.0,>=3.0.41 in c:\\users\\apalm\\appdata\\local\\programs\\python\\python312\\lib\\site-packages (from ipython>=6.1.0->ipywidgets<9,>=7.6.0->ipyleaflet) (3.0.47)\n",
      "Requirement already satisfied: pygments>=2.4.0 in c:\\users\\apalm\\appdata\\local\\programs\\python\\python312\\lib\\site-packages (from ipython>=6.1.0->ipywidgets<9,>=7.6.0->ipyleaflet) (2.18.0)\n",
      "Requirement already satisfied: stack-data in c:\\users\\apalm\\appdata\\local\\programs\\python\\python312\\lib\\site-packages (from ipython>=6.1.0->ipywidgets<9,>=7.6.0->ipyleaflet) (0.6.3)\n",
      "Requirement already satisfied: colorama in c:\\users\\apalm\\appdata\\local\\programs\\python\\python312\\lib\\site-packages (from ipython>=6.1.0->ipywidgets<9,>=7.6.0->ipyleaflet) (0.4.6)\n",
      "Requirement already satisfied: MarkupSafe>=2.0 in c:\\users\\apalm\\appdata\\local\\programs\\python\\python312\\lib\\site-packages (from jinja2>=3->branca>=0.5.0->ipyleaflet) (2.1.5)\n",
      "Requirement already satisfied: parso<0.9.0,>=0.8.3 in c:\\users\\apalm\\appdata\\local\\programs\\python\\python312\\lib\\site-packages (from jedi>=0.16->ipython>=6.1.0->ipywidgets<9,>=7.6.0->ipyleaflet) (0.8.4)\n",
      "Requirement already satisfied: wcwidth in c:\\users\\apalm\\appdata\\local\\programs\\python\\python312\\lib\\site-packages (from prompt-toolkit<3.1.0,>=3.0.41->ipython>=6.1.0->ipywidgets<9,>=7.6.0->ipyleaflet) (0.2.13)\n",
      "Requirement already satisfied: executing>=1.2.0 in c:\\users\\apalm\\appdata\\local\\programs\\python\\python312\\lib\\site-packages (from stack-data->ipython>=6.1.0->ipywidgets<9,>=7.6.0->ipyleaflet) (2.0.1)\n",
      "Requirement already satisfied: asttokens>=2.1.0 in c:\\users\\apalm\\appdata\\local\\programs\\python\\python312\\lib\\site-packages (from stack-data->ipython>=6.1.0->ipywidgets<9,>=7.6.0->ipyleaflet) (2.4.1)\n",
      "Requirement already satisfied: pure-eval in c:\\users\\apalm\\appdata\\local\\programs\\python\\python312\\lib\\site-packages (from stack-data->ipython>=6.1.0->ipywidgets<9,>=7.6.0->ipyleaflet) (0.2.3)\n",
      "Requirement already satisfied: six>=1.12.0 in c:\\users\\apalm\\appdata\\local\\programs\\python\\python312\\lib\\site-packages (from asttokens>=2.1.0->stack-data->ipython>=6.1.0->ipywidgets<9,>=7.6.0->ipyleaflet) (1.16.0)\n",
      "Downloading ipyleaflet-0.19.2-py3-none-any.whl (31 kB)\n",
      "Downloading branca-0.7.2-py3-none-any.whl (25 kB)\n",
      "Downloading jupyter_leaflet-0.19.2-py3-none-any.whl (1.1 MB)\n",
      "   ---------------------------------------- 0.0/1.1 MB ? eta -:--:--\n",
      "   ---------------------------------------- 1.1/1.1 MB 8.7 MB/s eta 0:00:00\n",
      "Downloading traittypes-0.2.1-py2.py3-none-any.whl (8.6 kB)\n",
      "Downloading xyzservices-2024.9.0-py3-none-any.whl (85 kB)\n",
      "Installing collected packages: xyzservices, traittypes, jupyter-leaflet, branca, ipyleaflet\n",
      "Successfully installed branca-0.7.2 ipyleaflet-0.19.2 jupyter-leaflet-0.19.2 traittypes-0.2.1 xyzservices-2024.9.0\n"
     ]
    }
   ],
   "source": [
    "!pip install getorg\n",
    "!pip install ipyleaflet\n"
   ]
  },
  {
   "cell_type": "code",
   "execution_count": 8,
   "id": "0e147eed-d137-4a83-a377-d7f1a69f468f",
   "metadata": {},
   "outputs": [],
   "source": [
    "import os"
   ]
  },
  {
   "cell_type": "code",
   "execution_count": 11,
   "id": "c44f434b-18b5-4bd7-a6e7-8eb277dc5b5e",
   "metadata": {},
   "outputs": [],
   "source": [
    "os.chdir('C://Users//apalm//Documents//GitHub//justgimmi.github.io/_talks')"
   ]
  },
  {
   "cell_type": "code",
   "execution_count": 13,
   "id": "911d2b6c-06c3-4d43-85fb-21e29213f960",
   "metadata": {},
   "outputs": [
    {
     "name": "stdout",
     "output_type": "stream",
     "text": [
      "['VAW.md']\n"
     ]
    }
   ],
   "source": [
    "print(g)"
   ]
  },
  {
   "cell_type": "code",
   "execution_count": 15,
   "id": "db2f2a87-0dc9-487b-a072-970609299bfc",
   "metadata": {},
   "outputs": [
    {
     "name": "stdout",
     "output_type": "stream",
     "text": [
      "Rome, Italy \n",
      " Roma, Roma Capitale, Lazio, Italia\n"
     ]
    },
    {
     "data": {
      "text/plain": [
       "'Written map to ../talkmap/'"
      ]
     },
     "execution_count": 15,
     "metadata": {},
     "output_type": "execute_result"
    }
   ],
   "source": [
    "# # Leaflet cluster map of talk locations\n",
    "#\n",
    "# (c) 2016-2017 R. Stuart Geiger, released under the MIT license\n",
    "#\n",
    "# Run this from the _talks/ directory, which contains .md files of all your talks. \n",
    "# This scrapes the location YAML field from each .md file, geolocates it with\n",
    "# geopy/Nominatim, and uses the getorg library to output data, HTML,\n",
    "# and Javascript for a standalone cluster map.\n",
    "#\n",
    "# Requires: glob, getorg, geopy\n",
    "\n",
    "import glob\n",
    "import getorg\n",
    "from geopy import Nominatim\n",
    "\n",
    "g = glob.glob(\"*.md\")\n",
    "\n",
    "\n",
    "geocoder = Nominatim(user_agent=\"just_gimmi\")\n",
    "location_dict = {}\n",
    "location = \"\"\n",
    "permalink = \"\"\n",
    "title = \"\"\n",
    "\n",
    "\n",
    "for file in g:\n",
    "    with open(file, 'r') as f:\n",
    "        lines = f.read()\n",
    "        if lines.find('location: \"') > 1:\n",
    "            loc_start = lines.find('location: \"') + 11\n",
    "            lines_trim = lines[loc_start:]\n",
    "            loc_end = lines_trim.find('\"')\n",
    "            location = lines_trim[:loc_end]\n",
    "                            \n",
    "           \n",
    "        location_dict[location] = geocoder.geocode(location)\n",
    "        print(location, \"\\n\", location_dict[location])\n",
    "\n",
    "\n",
    "m = getorg.orgmap.create_map_obj()\n",
    "getorg.orgmap.output_html_cluster_map(location_dict, folder_name=\"../talkmap\", hashed_usernames=False)\n",
    "\n",
    "\n",
    "\n",
    "\n"
   ]
  },
  {
   "cell_type": "code",
   "execution_count": null,
   "id": "c5d2e9ef-2588-4263-80c0-399f992da256",
   "metadata": {},
   "outputs": [],
   "source": []
  }
 ],
 "metadata": {
  "kernelspec": {
   "display_name": "Python 3 (ipykernel)",
   "language": "python",
   "name": "python3"
  },
  "language_info": {
   "codemirror_mode": {
    "name": "ipython",
    "version": 3
   },
   "file_extension": ".py",
   "mimetype": "text/x-python",
   "name": "python",
   "nbconvert_exporter": "python",
   "pygments_lexer": "ipython3",
   "version": "3.12.5"
  }
 },
 "nbformat": 4,
 "nbformat_minor": 5
}
